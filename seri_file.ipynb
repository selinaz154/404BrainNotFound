{
 "cells": [
  {
   "cell_type": "code",
   "execution_count": 1,
   "metadata": {},
   "outputs": [
    {
     "name": "stdout",
     "output_type": "stream",
     "text": [
      "✅ JSON file saved to: json\\patients_medications_procedures.json\n"
     ]
    }
   ],
   "source": [
    "import pandas as pd\n",
    "import os\n",
    "\n",
    "# Load CSV files\n",
    "patients_df = pd.read_csv(\"csv/cleaned_patients.csv\")\n",
    "medications_df = pd.read_csv(\"csv/cleaned_medication_administration_icu.csv\")\n",
    "procedures_df = pd.read_csv(\"csv/cleaned_procedures_icu.csv\")\n",
    "\n",
    "# Merge DataFrames sequentially on 'PatientID'\n",
    "merged_df = patients_df.merge(medications_df, on=\"PatientID\", how=\"inner\") \\\n",
    "                       .merge(procedures_df, on=\"PatientID\", how=\"inner\")\n",
    "\n",
    "# Convert to JSON format\n",
    "json_data = merged_df.to_json(orient=\"records\", indent=4)\n",
    "\n",
    "# Create the /json directory if it doesn't exist\n",
    "json_folder = \"json\"\n",
    "os.makedirs(json_folder, exist_ok=True)\n",
    "\n",
    "# Save JSON to a file\n",
    "json_file_path = os.path.join(json_folder, \"patients_medications_procedures.json\")\n",
    "with open(json_file_path, \"w\") as json_file:\n",
    "    json_file.write(json_data)\n",
    "\n",
    "print(f\"✅ JSON file saved to: {json_file_path}\")"
   ]
  },
  {
   "cell_type": "code",
   "execution_count": null,
   "metadata": {},
   "outputs": [],
   "source": []
  }
 ],
 "metadata": {
  "kernelspec": {
   "display_name": "Python 3 (ipykernel)",
   "language": "python",
   "name": "python3"
  },
  "language_info": {
   "codemirror_mode": {
    "name": "ipython",
    "version": 3
   },
   "file_extension": ".py",
   "mimetype": "text/x-python",
   "name": "python",
   "nbconvert_exporter": "python",
   "pygments_lexer": "ipython3",
   "version": "3.12.7"
  }
 },
 "nbformat": 4,
 "nbformat_minor": 4
}
